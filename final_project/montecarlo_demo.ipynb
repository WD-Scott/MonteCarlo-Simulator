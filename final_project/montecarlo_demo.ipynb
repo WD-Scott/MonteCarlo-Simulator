{
 "cells": [
  {
   "cell_type": "markdown",
   "metadata": {
    "jp-MarkdownHeadingCollapsed": true,
    "tags": []
   },
   "source": [
    "# Metadata\n",
    "\n",
    "* **Title:** Final Project Report\n",
    "* **Class:** DS 5100\n",
    "* **Date:** 2 May 2023\n",
    "* **Student Name:** Wyatt Scott\n",
    "* **Student Net ID:** bdr6qz\n",
    "* **This URL:** https://github.com/WD-Scott/montecarlo_project/blob/main/final_project/montecarlo_demo.ipynb\n",
    "* **GitHub Repo URL:** https://github.com/WD-Scott/montecarlo_project"
   ]
  },
  {
   "cell_type": "markdown",
   "metadata": {},
   "source": [
    "# The Monte Carlo Module"
   ]
  },
  {
   "cell_type": "code",
   "execution_count": 9,
   "metadata": {},
   "outputs": [],
   "source": [
    "import pandas as pd\n",
    "import numpy as np\n",
    "import re\n",
    "import requests\n",
    "from lxml import etree\n",
    "import random\n",
    "\n",
    "#-------------------------------------------------------------------------------------------------------------------------\n",
    "\n",
    "class Die:\n",
    "    '''\n",
    "    A die class with N sides/faces and W weights that users can roll to select a side/face.\n",
    "    \n",
    "    \n",
    "    Attributes:\n",
    "    -----------\n",
    "    None\n",
    "    \n",
    "    \n",
    "    Methods:\n",
    "    -----------\n",
    "    - initializer\n",
    "    - change_weight\n",
    "    - rolls\n",
    "    - show_die\n",
    "    '''\n",
    "    \n",
    "    def __init__(self, faces):\n",
    "        '''\n",
    "        Initializer that takes an array or list of faces of any length, then initializes weights to 1 and saves to a private dataframe.\n",
    "        \n",
    "        \n",
    "        Parameters:\n",
    "        -----------\n",
    "        - faces: numpy array or a list\n",
    "        '''\n",
    "        self.faces = np.array(faces)\n",
    "        self._faces_weights = pd.DataFrame(data = faces, columns = ['Faces'], index = range(len(faces)))\n",
    "        self._faces_weights['Weights'] = np.array([1.0 for i in range(len(faces))])\n",
    "        \n",
    "    def change_weight(self, face, new_weight):\n",
    "        '''\n",
    "        A method that changes a side/face weight and checks whether side/face and weight are valid.\n",
    "        \n",
    "        \n",
    "        Parameters:\n",
    "        -----------\n",
    "        - face: str or int\n",
    "        - new_weight: float\n",
    "        \n",
    "        Raises:\n",
    "        -----------\n",
    "        ValueError if new_weight is not a float or convertible to a float. \n",
    "        This error will also appear if face is not included in the die.\n",
    "        '''\n",
    "        if not (face in list(self._faces_weights['Faces'])):\n",
    "            return ValueError (\"That face does not exist.\")\n",
    "        else:\n",
    "            self._faces_weights.loc[self._faces_weights['Faces'] == face, 'Weights'] = float(new_weight)\n",
    "            \n",
    "    def rolls(self, rolls=1):\n",
    "        '''\n",
    "        A method that rolls the die one or more times but defaults to 1.\n",
    "        \n",
    "        \n",
    "        Parameters:\n",
    "        -----------\n",
    "        - rolls\n",
    "        \n",
    "        Returns:\n",
    "        -----------\n",
    "        rolled_outcome: a list of the rolled outcomes.\n",
    "        '''\n",
    "        rolled_outcome = self._faces_weights.sample(n = rolls, weights = 'Weights', replace = True)\n",
    "        return list(rolled_outcome['Faces'])\n",
    "    \n",
    "    def show_die(self):\n",
    "        '''\n",
    "        A method that shows the dataframe of faces and weights.\n",
    "        \n",
    "        Parameters:\n",
    "        -----------\n",
    "        - None\n",
    "        \n",
    "        Returns:\n",
    "        -----------\n",
    "        A pandas df of faces and weights of the die.\n",
    "        '''\n",
    "        return self._faces_weights\n",
    "    \n",
    "#-------------------------------------------------------------------------------------------------------------------------\n",
    "\n",
    "class Game:\n",
    "    '''\n",
    "    A game class that rolls one or more dice of the same kind one or more times.\n",
    "    \n",
    "    \n",
    "    Attributes:\n",
    "    -----------\n",
    "    None\n",
    "    \n",
    "    \n",
    "    Methods:\n",
    "    -----------\n",
    "    - initializer\n",
    "    - play\n",
    "    - show_play\n",
    "    '''\n",
    "    \n",
    "    def __init__(self, die_list):\n",
    "        '''\n",
    "        Initializer that takes a single parameter — a list of already instantiated similar Die objects.\n",
    "        \n",
    "        Parameters:\n",
    "        -----------\n",
    "        - die_list: list\n",
    "        '''\n",
    "        self.die_list = die_list\n",
    "        \n",
    "    def play(self, rolls):\n",
    "        '''\n",
    "        A method that takes a parameter to specify how many times the dice should be rolled.\n",
    " \n",
    " \n",
    "        Parameters:\n",
    "        -----------\n",
    "        - rolls: int\n",
    "        '''\n",
    "        self._played = pd.DataFrame()\n",
    "        self.rolls = rolls\n",
    "        Rando_Dice = 0\n",
    "        \n",
    "        for die in self.die_list:\n",
    "            dice_results = die.rolls(rolls=rolls)\n",
    "            Rando_Dice += 1\n",
    "            series = pd.Series(dice_results, name = f'Die{Rando_Dice}')\n",
    "            self._played = pd.concat([self._played, series], axis = 1)\n",
    "        \n",
    "        self._played['Roll'] = self._played.index + 1\n",
    "        self._played = self._played.set_index('Roll')\n",
    "    \n",
    "    def show_play(self, form = 'wide'):\n",
    "        '''\n",
    "        A method that shows the user the results of the most recent play.\n",
    "        Takes a parameter to return the dataframe in narrow or wide form.\n",
    "        This parameter defaults to wide form.\n",
    "        This parameter raises an exception if the user passes an invalid option.\n",
    "        \n",
    "        The narrow form of the dataframe will have a two-column index with:\n",
    "            * the roll number\n",
    "            * the die number\n",
    "            * a column for the face rolled\n",
    "        \n",
    "        The wide form of the dataframe will be a single-column index with:\n",
    "            * the roll number\n",
    "            * each die number as a column\n",
    "        \n",
    "        \n",
    "        Parameters:\n",
    "        -----------\n",
    "        - form: string\n",
    "        \n",
    "        Raises:\n",
    "        -----------\n",
    "        ValueError if form is not narrow or wide.\n",
    "        \n",
    "        Returns:\n",
    "        -----------\n",
    "        A pandas df with the most recent result from the play method, including:\n",
    "            * the roll number\n",
    "            * the die number\n",
    "            * the face rolled for each respective roll\n",
    "        '''\n",
    "        self.form = form\n",
    "        if not (form == 'wide' or form == 'narrow'):\n",
    "            raise ValueError(\"Input must be wide or narrow\") \n",
    "        elif form == 'wide':\n",
    "            return self._played\n",
    "        elif form == 'narrow':\n",
    "            return self._played.stack().to_frame('Face')\n",
    "\n",
    "#-------------------------------------------------------------------------------------------------------------------------\n",
    "\n",
    "class Analyzer:\n",
    "    '''\n",
    "    An analyzer class that takes the results of a single game and computes various descriptive statistical properties about it. \n",
    "    These properties and results are available as attributes of an Analyzer object.\n",
    "    \n",
    "    \n",
    "    Attributes:\n",
    "    -----------\n",
    "    None\n",
    "    \n",
    "    \n",
    "    Methods:\n",
    "    -----------\n",
    "    - initializer\n",
    "    - face_count\n",
    "    - jackpot\n",
    "    - combo\n",
    "    '''\n",
    "    \n",
    "    def __init__(self, game):\n",
    "        '''\n",
    "        Initializer that takes a game object as its input parameter.\n",
    "        At initialization time, it also infers the data type of the die faces.\n",
    "        \n",
    "        Parameters:\n",
    "        -----------\n",
    "        - game: Game object.\n",
    "        '''\n",
    "        self._game_ = game\n",
    "        self.die_dtype = type(game.die_list[0])\n",
    "        self.JPs = 0\n",
    "        self.counts_df = pd.DataFrame()\n",
    "    \n",
    "    def face_count(self):\n",
    "        '''\n",
    "        A method that computes how many times a given face is rolled in each event.\n",
    "        Stores the results as a dataframe in a public attribute.\n",
    "        The dataframe has an index of the roll number and face values as columns (i.e., in wide form).\n",
    "        \n",
    "        Parameters:\n",
    "        -----------\n",
    "        - None\n",
    "        \n",
    "        Returns:\n",
    "        -----------\n",
    "        A pandas df with the counts of each face value per roll, including:\n",
    "            * Indexes for the roll number\n",
    "            * Columns showing die face values \n",
    "        '''\n",
    "        self.face_count = self._game_.show_play().apply(lambda x: x.value_counts(), axis = 1).fillna(int(0))\n",
    "        self.counts_df = self.face_count\n",
    "        self.counts_df.index.name = 'Roll'\n",
    "        self.counts_df.columns.name = \"Die Face\"\n",
    "        return self.counts_df\n",
    "    \n",
    "    def jackpot(self):\n",
    "        '''\n",
    "        A method that computes how many times the game resulted in all faces being identical \n",
    "            and returns an integer for the number of times to the user.\n",
    "        Stores the results as a dataframe of jackpot results in a public attribute.\n",
    "\n",
    "        Parameters:\n",
    "        -----------\n",
    "        - None\n",
    "        \n",
    "        Returns:\n",
    "        -----------\n",
    "        A pandas df with the rows for when a jackpot occurred, including:\n",
    "            * the roll number\n",
    "            * the die number\n",
    "            * the respective face rolled\n",
    "        '''\n",
    "        self.JPs_df = pd.DataFrame()\n",
    "        for i in range(1, self._game_.show_play().T.shape[1]+1):\n",
    "            if ((len(set(self._game_.show_play().loc[[i]].values[0].flatten())))==1):\n",
    "                temp = self._game_.show_play().loc[[i]]\n",
    "                self.JPs_df = pd.concat([self.JPs_df, temp], axis=0)\n",
    "        self.JPs = self.JPs_df.shape[0]\n",
    "        return self.JPs\n",
    "    \n",
    "    def combo(self):\n",
    "        '''\n",
    "        A method that computes the distinct combinations of faces rolled and their counts.\n",
    "        Combinations are sorted and saved as a multicolumned index.\n",
    "        Stores the results as a dataframe in a public attribute.\n",
    "        \n",
    "        \n",
    "        Parameters:\n",
    "        -----------\n",
    "        - None\n",
    "        \n",
    "        Returns:\n",
    "        -----------\n",
    "        A pandas df where the face values are multi-indexes and columns show the combination count.\n",
    "        '''\n",
    "        self.combo_df = pd.DataFrame()\n",
    "        self.combo = self._game_._played.apply(lambda x: pd.Series(sorted(x)), 1).value_counts().to_frame('Count')\n",
    "        self.combo_df = self.combo.sort_values(by='Count',ascending=False)\n",
    "        self.combo_df.index.names = [\"Face\"+str(i) for i in range(1, len(self._game_.die_list)+1)]\n",
    "        return(self.combo_df)"
   ]
  },
  {
   "cell_type": "markdown",
   "metadata": {},
   "source": [
    "# Test Module"
   ]
  },
  {
   "cell_type": "code",
   "execution_count": null,
   "metadata": {},
   "outputs": [],
   "source": [
    "import unittest\n",
    "from montecarlo import Die, Game, Analyzer\n",
    "import pandas as pd\n",
    "import numpy as np\n",
    "import pandas.testing as pdt\n",
    "\n",
    "class MonteCarloTestSuit(unittest.TestCase):\n",
    "    '''\n",
    "    Test suite for methods and return outputs\n",
    "    '''\n",
    "    \n",
    "    def test_die(self):\n",
    "        '''\n",
    "        Tests weight creation.\n",
    "        '''        \n",
    "        die = Die([1,2,3,4,5,6])\n",
    "        x = 1\n",
    "        if x not in die._faces_weights['Weights'].values:\n",
    "            raise AssertionError\n",
    "        \n",
    "            \n",
    "    def test_weight_change(self):\n",
    "        '''\n",
    "        Tests the weight_changed method.\n",
    "        '''        \n",
    "        die = Die([1,2,3,4,5,6])\n",
    "        die.change_weight(3,5)\n",
    "        expected = 5\n",
    "        actual = die.show_die().loc[die.show_die()['Faces'] == 3, 'Weights'].values[0]\n",
    "        self.assertEqual(expected, actual)\n",
    "        \n",
    "        \n",
    "    def test_rolls(self):\n",
    "        '''\n",
    "        Tests the rolls method.\n",
    "        '''\n",
    "        die = [1,2,3,4,5,6]\n",
    "        test_3 = Die(die)\n",
    "        roll = test_3.rolls(3)\n",
    "        self.assertEqual(len(roll), 3)\n",
    "        \n",
    "        \n",
    "    def test_show(self):\n",
    "        '''\n",
    "        Tests the show_faces_weights method.\n",
    "        '''\n",
    "        die = [1,2,3,4,5,6]\n",
    "        test_4 = Die(die)\n",
    "        test_4_df = test_4.show_die()\n",
    "        test_4_type = type(test_4_df)\n",
    "        x = pd.DataFrame()\n",
    "        pd_type = type(x)\n",
    "        self.assertEqual(test_4_type, pd_type)\n",
    "     \n",
    "    \n",
    "    def test_gameplay(self):\n",
    "        '''\n",
    "        Tests the play method.\n",
    "        '''\n",
    "        game = Game([Die([1,2,3]), Die([1,2,3]), Die([1,2,3])])\n",
    "        game.play(100)\n",
    "        expect_row = 100\n",
    "        actual_row = game.show_play().shape[0]\n",
    "        self.assertEqual(expect_row, actual_row)\n",
    "        expect_col = 3\n",
    "        actual_col = game.show_play().shape[1]\n",
    "        self.assertEqual(expect_col, actual_col)\n",
    "        \n",
    "\n",
    "    def test_show2(self):\n",
    "        '''\n",
    "        Tests the show method for narrow form.\n",
    "        '''        \n",
    "        game = Game([Die([1,2,3]), Die([1,2,3]), Die([1,2,3])])\n",
    "        game.play(100)\n",
    "        expect_row = 300\n",
    "        actual_row = game.show_play(form='narrow').shape[0]\n",
    "        self.assertEqual(expect_row, actual_row)\n",
    "        expect_col = 1\n",
    "        actual_col = game.show_play(form='narrow').shape[1]\n",
    "        self.assertEqual(expect_col, actual_col)\n",
    "        \n",
    "        \n",
    "    def test_face_count(self):\n",
    "        '''\n",
    "        Tests the face_counts_roll method.\n",
    "        '''\n",
    "        testdie1 = Die([1,2,3])\n",
    "        testdie2 = Die([1,2,3])\n",
    "        testdie_lst = ([testdie1, testdie2])\n",
    "        \n",
    "        testgame = Game(testdie_lst)\n",
    "        testgame.play(2)\n",
    "        test_analyze = Analyzer(testgame)\n",
    "        test_df = test_analyze.face_count()\n",
    "        shape = test_df.shape[0]\n",
    "        expected = 2\n",
    "        actual = shape\n",
    "        self.assertEqual(expected, actual)\n",
    "        \n",
    "\n",
    "    def test_jp(self):\n",
    "        '''\n",
    "        Tests the jackpot method.\n",
    "        '''\n",
    "        testdie1 = Die([1,2,3])\n",
    "        testdie2 = Die([1,2,3])\n",
    "        testdie3 = Die([1,2,3])\n",
    "        testdie_lst = ([testdie1, testdie2, testdie3])\n",
    "        \n",
    "        testgame = Game(testdie_lst)\n",
    "        testgame.play(3)\n",
    "        analyze = Analyzer(testgame)\n",
    "        jps = analyze.jackpot()\n",
    "        self.assertTrue(type(jps) == int)\n",
    "    \n",
    "\n",
    "    def test_combo(self):\n",
    "        '''\n",
    "        Tests the combo method.\n",
    "        '''\n",
    "        testdie1 = Die([1,2,3])\n",
    "        testdie2 = Die([1,2,3])\n",
    "        testdie3 = Die([1,2,3])\n",
    "        testdie_lst = ([testdie1, testdie2, testdie3])\n",
    "        \n",
    "        testgame = Game(testdie_lst)\n",
    "        testgame.play(3)\n",
    "        test_analyze = Analyzer(testgame)\n",
    "        test_df = test_analyze.combo().size\n",
    "        self.assertGreater(test_df, 0)\n",
    "        \n",
    "if __name__ == \"__main__\":\n",
    "    unittest.main(argv=['first-arg-is-ignored'], exit=False, verbosity=3)     "
   ]
  },
  {
   "cell_type": "markdown",
   "metadata": {},
   "source": [
    "# Test Results"
   ]
  },
  {
   "cell_type": "code",
   "execution_count": 11,
   "metadata": {},
   "outputs": [
    {
     "name": "stdout",
     "output_type": "stream",
     "text": [
      "test_combo (__main__.MonteCarloTestSuit)\n",
      "Tests the combo method. ... ok\n",
      "test_die (__main__.MonteCarloTestSuit)\n",
      "Tests weight creation. ... ok\n",
      "test_face_count (__main__.MonteCarloTestSuit)\n",
      "Tests the face_counts_roll method. ... ok\n",
      "test_gameplay (__main__.MonteCarloTestSuit)\n",
      "Tests the play method. ... ok\n",
      "test_jp (__main__.MonteCarloTestSuit)\n",
      "Tests the jackpot method. ... ok\n",
      "test_rolls (__main__.MonteCarloTestSuit)\n",
      "Tests the rolls method. ... ok\n",
      "test_show (__main__.MonteCarloTestSuit)\n",
      "Tests the show_faces_weights method. ... ok\n",
      "test_show2 (__main__.MonteCarloTestSuit)\n",
      "Tests the show method for narrow form. ... ok\n",
      "test_weight_change (__main__.MonteCarloTestSuit)\n",
      "Tests the weight_changed method. ... ok\n",
      "\n",
      "----------------------------------------------------------------------\n",
      "Ran 9 tests in 0.022s\n",
      "\n",
      "OK\n"
     ]
    }
   ],
   "source": [
    "!python montecarlo_tests.py"
   ]
  },
  {
   "cell_type": "markdown",
   "metadata": {},
   "source": [
    "# Scenarios"
   ]
  },
  {
   "cell_type": "code",
   "execution_count": 4,
   "metadata": {},
   "outputs": [],
   "source": [
    "from montecarlo import Die, Game, Analyzer\n",
    "import pandas as pd\n",
    "import numpy as np\n",
    "from matplotlib import pyplot as plt"
   ]
  },
  {
   "cell_type": "markdown",
   "metadata": {},
   "source": [
    "## Scenario 1: A 2-headed coin"
   ]
  },
  {
   "cell_type": "markdown",
   "metadata": {},
   "source": [
    "### (1.1)\n",
    "**Directions:** Create a fair coin and one unfair coin, in which one of the faces has a weight of 5 and the others."
   ]
  },
  {
   "cell_type": "code",
   "execution_count": 5,
   "metadata": {},
   "outputs": [],
   "source": [
    "fair_coin = Die(['H', 'T'])\n",
    "unfair_coin = Die(['H', 'T'])\n",
    "unfair_coin.change_weight('T', 5)"
   ]
  },
  {
   "cell_type": "markdown",
   "metadata": {},
   "source": [
    "### (1.2)\n",
    "**Directions:** Play a game of 1,000 flips with all fair dice"
   ]
  },
  {
   "cell_type": "code",
   "execution_count": 6,
   "metadata": {},
   "outputs": [],
   "source": [
    "fair_game = Game([fair_coin, fair_coin, fair_coin])\n",
    "fair_game.play(1000)"
   ]
  },
  {
   "cell_type": "markdown",
   "metadata": {},
   "source": [
    "### (1.3)\n",
    "**Directions:** Play a game of 1,000 flips with two unfair dice and one fair die."
   ]
  },
  {
   "cell_type": "code",
   "execution_count": 7,
   "metadata": {},
   "outputs": [],
   "source": [
    "unfair_game = Game([unfair_coin, unfair_coin, fair_coin])\n",
    "unfair_game.play(1000)"
   ]
  },
  {
   "cell_type": "markdown",
   "metadata": {},
   "source": [
    "### (1.4)\n",
    "**Directions:** For each game, use an Analyzer object to determine the relative frequency of jackpots - getting all Hs or all Ts."
   ]
  },
  {
   "cell_type": "code",
   "execution_count": 8,
   "metadata": {},
   "outputs": [],
   "source": [
    "fair_JPs = Analyzer(fair_game)\n",
    "unfair_JPs = Analyzer(unfair_game)\n",
    "rel_freq_fair = fair_JPs.jackpot()\n",
    "rel_freq_unfair = unfair_JPs.jackpot()"
   ]
  },
  {
   "cell_type": "markdown",
   "metadata": {},
   "source": [
    "### (1.5)\n",
    "**Directions:** Compute the relative frequency as the number of jackpots over the total number of rolls."
   ]
  },
  {
   "cell_type": "code",
   "execution_count": 9,
   "metadata": {},
   "outputs": [],
   "source": [
    "rel_fair_freq = rel_freq_fair/1000\n",
    "rel_unfair_freq = rel_freq_unfair/1000"
   ]
  },
  {
   "cell_type": "markdown",
   "metadata": {},
   "source": [
    "### (1.6)\n",
    "**Directions:** Show your results, comparing the two relative frequencies in a simple bar chart."
   ]
  },
  {
   "cell_type": "code",
   "execution_count": 10,
   "metadata": {},
   "outputs": [
    {
     "data": {
      "image/png": "[encoded data removed]",
      "text/plain": [
       "<Figure size 640x480 with 1 Axes>"
      ]
     },
     "metadata": {},
     "output_type": "display_data"
    }
   ],
   "source": [
    "plt.figure()\n",
    "plt.bar(['Fair Coins Jackpot Frequency', '2 Unfair, 1 Fair Jackpot Frequency'],\n",
    "        [rel_fair_freq, rel_unfair_freq])\n",
    "plt.show()"
   ]
  },
  {
   "cell_type": "markdown",
   "metadata": {},
   "source": [
    "## Senario 2: A 6-sided die"
   ]
  },
  {
   "cell_type": "markdown",
   "metadata": {},
   "source": [
    "### (2.1)\n",
    "**Directions:** Create a fair die and two unfair dice, all of six sides with the faces 1 through 6. One unfair die (Type 1) will weight 6 five times more than the others (i.e. it has a weight of 5 and the others a weight of 1 each). The other unfair die (Type 2) will weight 1 five times more than the others."
   ]
  },
  {
   "cell_type": "code",
   "execution_count": 11,
   "metadata": {},
   "outputs": [],
   "source": [
    "fair_die = Die([1,2,3,4,5,6])\n",
    "unfair_1 = Die([1,2,3,4,5,6])\n",
    "unfair_2 = Die([1,2,3,4,5,6])"
   ]
  },
  {
   "cell_type": "code",
   "execution_count": 12,
   "metadata": {},
   "outputs": [],
   "source": [
    "unfair_1.change_weight(6, 5)\n",
    "unfair_2.change_weight(1, 5)"
   ]
  },
  {
   "cell_type": "markdown",
   "metadata": {},
   "source": [
    "### (2.2)\n",
    "**Directions:** Play a game of 10,000 rolls with 5 fair dice."
   ]
  },
  {
   "cell_type": "code",
   "execution_count": 13,
   "metadata": {},
   "outputs": [],
   "source": [
    "fair_game_die = Game([fair_die, fair_die, fair_die, fair_die, fair_die])\n",
    "fair_game_die.play(10000)"
   ]
  },
  {
   "cell_type": "markdown",
   "metadata": {},
   "source": [
    "### (2.3)\n",
    "**Directions:** Play a game of 10,000 rolls with 2 unfair dice of Type 1, 1 unfair die of Type 2, and the rest fair dice."
   ]
  },
  {
   "cell_type": "code",
   "execution_count": 14,
   "metadata": {},
   "outputs": [],
   "source": [
    "unfair_game_die = Game([unfair_1, unfair_1, unfair_2, fair_die, fair_die])\n",
    "unfair_game_die.play(10000)"
   ]
  },
  {
   "cell_type": "markdown",
   "metadata": {},
   "source": [
    "### (2.4)\n",
    "**Directions:** For each game, use an Analyzer object to determine the relative frequency of jackpots and show your results, comparing the two relative frequencies in a simple bar chart."
   ]
  },
  {
   "cell_type": "code",
   "execution_count": 15,
   "metadata": {},
   "outputs": [],
   "source": [
    "fair_die_JPs = Analyzer(fair_game_die)\n",
    "unfair_die_JPs = Analyzer(unfair_game_die)"
   ]
  },
  {
   "cell_type": "code",
   "execution_count": 16,
   "metadata": {},
   "outputs": [
    {
     "data": {
      "image/png": "[encoded data removed]",
      "text/plain": [
       "<Figure size 640x480 with 1 Axes>"
      ]
     },
     "metadata": {},
     "output_type": "display_data"
    }
   ],
   "source": [
    "rel_freq_fair_die = fair_die_JPs.jackpot()\n",
    "rel_freq_unfair_die = unfair_die_JPs.jackpot()\n",
    "\n",
    "plt.figure()\n",
    "plt.bar(['Fair Jackpot Frequency', 'Mixed Jackpot Frequency'],\n",
    "        [rel_freq_fair_die, rel_freq_unfair_die])\n",
    "plt.show()"
   ]
  },
  {
   "cell_type": "markdown",
   "metadata": {},
   "source": [
    "### (2.5)\n",
    "**Directions:** Compute the 10 most frequent combinations of faces for each game. Plot each of these as bar charts."
   ]
  },
  {
   "cell_type": "code",
   "execution_count": 17,
   "metadata": {},
   "outputs": [
    {
     "data": {
      "text/plain": [
       "<AxesSubplot:title={'center':'Unfair Game'}, xlabel='Face1,Face2,Face3,Face4,Face5'>"
      ]
     },
     "execution_count": 17,
     "metadata": {},
     "output_type": "execute_result"
    },
    {
     "data": {
      "image/png": "[encoded data removed]",
      "text/plain": [
       "<Figure size 640x480 with 1 Axes>"
      ]
     },
     "metadata": {},
     "output_type": "display_data"
    },
    {
     "data": {
      "image/png": "[encoded data removed]",
      "text/plain": [
       "<Figure size 640x480 with 1 Axes>"
      ]
     },
     "metadata": {},
     "output_type": "display_data"
    }
   ],
   "source": [
    "Fair_combos = fair_die_JPs.combo().head(10)\n",
    "Fair_combos.plot.bar(title=\"Fair Game\")\n",
    "\n",
    "Unfair_combos = unfair_die_JPs.combo().head(10)\n",
    "Unfair_combos.plot.bar(title=\"Unfair Game\")"
   ]
  },
  {
   "cell_type": "markdown",
   "metadata": {},
   "source": [
    "## Scenario 3: Letters of the Roman Alpha"
   ]
  },
  {
   "cell_type": "markdown",
   "metadata": {},
   "source": [
    "### (3.1)\n",
    "**Directions:** Create a 'die' of letters from a to z with weights based on their frequency of usage."
   ]
  },
  {
   "cell_type": "code",
   "execution_count": 18,
   "metadata": {},
   "outputs": [],
   "source": [
    "Roman_Alphabet = Die([\"A\", \"B\", \"C\", \"D\", \"E\", \n",
    "                 \"F\", \"G\", \"H\", \"I\", 'J', \n",
    "                 'K','L', 'M', 'N', 'O', \n",
    "                 'P', 'Q', 'R', 'S', 'T', \n",
    "                 'U', 'V', 'W', 'X', 'Y', 'Z'])\n",
    "\n",
    "Roman_Alphabet.change_weight(\"A\",8.4966)\n",
    "Roman_Alphabet.change_weight(\"B\",2.0720)\n",
    "Roman_Alphabet.change_weight(\"C\",4.5388)\n",
    "Roman_Alphabet.change_weight(\"D\",3.3844)\n",
    "Roman_Alphabet.change_weight(\"E\",11.1607)\n",
    "Roman_Alphabet.change_weight(\"F\",1.8121)\n",
    "Roman_Alphabet.change_weight(\"G\",2.4705)\n",
    "Roman_Alphabet.change_weight(\"H\",3.0034)\n",
    "Roman_Alphabet.change_weight(\"I\",7.5448)\n",
    "Roman_Alphabet.change_weight(\"J\",0.1965)\n",
    "Roman_Alphabet.change_weight(\"K\",1.1016)\n",
    "Roman_Alphabet.change_weight(\"L\",5.4893)\n",
    "Roman_Alphabet.change_weight(\"M\",3.0129)\n",
    "Roman_Alphabet.change_weight(\"N\",6.6544)\n",
    "Roman_Alphabet.change_weight(\"O\",7.1635)\n",
    "Roman_Alphabet.change_weight(\"P\",3.1671)\n",
    "Roman_Alphabet.change_weight(\"Q\",0.1962)\n",
    "Roman_Alphabet.change_weight(\"R\",7.5809)\n",
    "Roman_Alphabet.change_weight(\"S\",5.7351)\n",
    "Roman_Alphabet.change_weight(\"T\",6.9509)\n",
    "Roman_Alphabet.change_weight(\"U\",3.6308)\n",
    "Roman_Alphabet.change_weight(\"V\",1.0074)\n",
    "Roman_Alphabet.change_weight(\"W\",1.2899)\n",
    "Roman_Alphabet.change_weight(\"X\",0.2902)\n",
    "Roman_Alphabet.change_weight(\"Y\",1.7779)\n",
    "Roman_Alphabet.change_weight(\"Z\",0.2722)"
   ]
  },
  {
   "cell_type": "markdown",
   "metadata": {},
   "source": [
    "### (3.2)\n",
    "**Directions:** Play a game involving 5 of these dice with 1,000 rolls."
   ]
  },
  {
   "cell_type": "code",
   "execution_count": 19,
   "metadata": {},
   "outputs": [],
   "source": [
    "letters_list = ([Roman_Alphabet, Roman_Alphabet, Roman_Alphabet, Roman_Alphabet, Roman_Alphabet])\n",
    "letters_game = Game(letters_list)\n",
    "letters_game.play(1000)"
   ]
  },
  {
   "cell_type": "markdown",
   "metadata": {},
   "source": [
    "### (3.3)\n",
    "**Directions:** How many combos can you see that look like actual English words? A 'combo' here just means resulting sequence, not literally combination as opposed to permutation."
   ]
  },
  {
   "cell_type": "code",
   "execution_count": 20,
   "metadata": {},
   "outputs": [
    {
     "data": {
      "text/html": [
       "<div>\n",
       "<style scoped>\n",
       "    .dataframe tbody tr th:only-of-type {\n",
       "        vertical-align: middle;\n",
       "    }\n",
       "\n",
       "    .dataframe tbody tr th {\n",
       "        vertical-align: top;\n",
       "    }\n",
       "\n",
       "    .dataframe thead th {\n",
       "        text-align: right;\n",
       "    }\n",
       "</style>\n",
       "<table border=\"1\" class=\"dataframe\">\n",
       "  <thead>\n",
       "    <tr style=\"text-align: right;\">\n",
       "      <th></th>\n",
       "      <th>Die1</th>\n",
       "      <th>Die2</th>\n",
       "      <th>Die3</th>\n",
       "      <th>Die4</th>\n",
       "      <th>Die5</th>\n",
       "    </tr>\n",
       "    <tr>\n",
       "      <th>Roll</th>\n",
       "      <th></th>\n",
       "      <th></th>\n",
       "      <th></th>\n",
       "      <th></th>\n",
       "      <th></th>\n",
       "    </tr>\n",
       "  </thead>\n",
       "  <tbody>\n",
       "    <tr>\n",
       "      <th>1</th>\n",
       "      <td>L</td>\n",
       "      <td>O</td>\n",
       "      <td>R</td>\n",
       "      <td>I</td>\n",
       "      <td>B</td>\n",
       "    </tr>\n",
       "    <tr>\n",
       "      <th>2</th>\n",
       "      <td>I</td>\n",
       "      <td>E</td>\n",
       "      <td>I</td>\n",
       "      <td>A</td>\n",
       "      <td>D</td>\n",
       "    </tr>\n",
       "    <tr>\n",
       "      <th>3</th>\n",
       "      <td>I</td>\n",
       "      <td>E</td>\n",
       "      <td>P</td>\n",
       "      <td>U</td>\n",
       "      <td>E</td>\n",
       "    </tr>\n",
       "    <tr>\n",
       "      <th>4</th>\n",
       "      <td>E</td>\n",
       "      <td>Y</td>\n",
       "      <td>A</td>\n",
       "      <td>S</td>\n",
       "      <td>T</td>\n",
       "    </tr>\n",
       "    <tr>\n",
       "      <th>5</th>\n",
       "      <td>O</td>\n",
       "      <td>N</td>\n",
       "      <td>M</td>\n",
       "      <td>D</td>\n",
       "      <td>M</td>\n",
       "    </tr>\n",
       "    <tr>\n",
       "      <th>...</th>\n",
       "      <td>...</td>\n",
       "      <td>...</td>\n",
       "      <td>...</td>\n",
       "      <td>...</td>\n",
       "      <td>...</td>\n",
       "    </tr>\n",
       "    <tr>\n",
       "      <th>996</th>\n",
       "      <td>T</td>\n",
       "      <td>H</td>\n",
       "      <td>H</td>\n",
       "      <td>I</td>\n",
       "      <td>V</td>\n",
       "    </tr>\n",
       "    <tr>\n",
       "      <th>997</th>\n",
       "      <td>S</td>\n",
       "      <td>T</td>\n",
       "      <td>T</td>\n",
       "      <td>U</td>\n",
       "      <td>E</td>\n",
       "    </tr>\n",
       "    <tr>\n",
       "      <th>998</th>\n",
       "      <td>N</td>\n",
       "      <td>P</td>\n",
       "      <td>E</td>\n",
       "      <td>A</td>\n",
       "      <td>N</td>\n",
       "    </tr>\n",
       "    <tr>\n",
       "      <th>999</th>\n",
       "      <td>I</td>\n",
       "      <td>N</td>\n",
       "      <td>E</td>\n",
       "      <td>N</td>\n",
       "      <td>S</td>\n",
       "    </tr>\n",
       "    <tr>\n",
       "      <th>1000</th>\n",
       "      <td>N</td>\n",
       "      <td>E</td>\n",
       "      <td>L</td>\n",
       "      <td>P</td>\n",
       "      <td>Y</td>\n",
       "    </tr>\n",
       "  </tbody>\n",
       "</table>\n",
       "<p>1000 rows × 5 columns</p>\n",
       "</div>"
      ],
      "text/plain": [
       "     Die1 Die2 Die3 Die4 Die5\n",
       "Roll                         \n",
       "1       L    O    R    I    B\n",
       "2       I    E    I    A    D\n",
       "3       I    E    P    U    E\n",
       "4       E    Y    A    S    T\n",
       "5       O    N    M    D    M\n",
       "...   ...  ...  ...  ...  ...\n",
       "996     T    H    H    I    V\n",
       "997     S    T    T    U    E\n",
       "998     N    P    E    A    N\n",
       "999     I    N    E    N    S\n",
       "1000    N    E    L    P    Y\n",
       "\n",
       "[1000 rows x 5 columns]"
      ]
     },
     "execution_count": 20,
     "metadata": {},
     "output_type": "execute_result"
    }
   ],
   "source": [
    "letters_game.show_play()"
   ]
  },
  {
   "cell_type": "markdown",
   "metadata": {},
   "source": [
    "**Answer:** I don't see any English words using the `show_play` method from the `Game` class. So, I will look at a larger slice of the dataframe."
   ]
  },
  {
   "cell_type": "code",
   "execution_count": 21,
   "metadata": {},
   "outputs": [],
   "source": [
    "result = letters_game.show_play()"
   ]
  },
  {
   "cell_type": "code",
   "execution_count": 22,
   "metadata": {},
   "outputs": [
    {
     "name": "stdout",
     "output_type": "stream",
     "text": [
      "[L O R I B]\n",
      "[I E I A D]\n",
      "[I E P U E]\n",
      "[E Y A S T]\n",
      "[O N M D M]\n",
      "[L U C V N]\n",
      "[T D G B B]\n",
      "[L F H I E]\n",
      "[B P I C I]\n",
      "[D E U O T]\n",
      "[S S O I I]\n",
      "[V C A M K]\n",
      "[T C R A I]\n",
      "[R M R E I]\n",
      "[O O P S P]\n",
      "[E K O Y A]\n",
      "[R D M A N]\n",
      "[E H A A U]\n",
      "[O N E H S]\n",
      "[I A A O K]\n",
      "[L U G A O]\n",
      "[T Y T N B]\n",
      "[Y H M O M]\n",
      "[M A N M E]\n",
      "[U W E S E]\n",
      "[E P I U N]\n",
      "[T I K B N]\n",
      "[U S G C S]\n",
      "[N C E C M]\n",
      "[I I U T O]\n",
      "[G S A D G]\n",
      "[H E A A D]\n",
      "[N E S I N]\n",
      "[L L R T R]\n",
      "[U T P O O]\n",
      "[R A W D R]\n",
      "[S U Y A T]\n",
      "[S T A I H]\n",
      "[E O C N E]\n",
      "[A O A E R]\n",
      "[E A I A D]\n",
      "[A C S S T]\n",
      "[R L E I K]\n",
      "[I S A L C]\n",
      "[I R D E M]\n",
      "[D E U I E]\n",
      "[I I R Y E]\n",
      "[R O T P T]\n",
      "[L H L H S]\n",
      "[O N O A S]\n"
     ]
    }
   ],
   "source": [
    "words = []\n",
    "\n",
    "result_slice1 = result.iloc[:50]\n",
    "\n",
    "for index, rows in result_slice1.iterrows():\n",
    "    word_list = [(rows.Die1), (rows.Die2), (rows.Die3), (rows.Die4), (rows.Die5)]\n",
    "    no_seps_words = '[' + ' '.join(word_list) + ']'\n",
    "    words.append(no_seps_words)\n",
    "\n",
    "for i in range(len(words)):\n",
    "    print(words[i])"
   ]
  },
  {
   "cell_type": "markdown",
   "metadata": {},
   "source": [
    "**Answer**: I still see no English words, at least not in the first 50 rows."
   ]
  },
  {
   "cell_type": "markdown",
   "metadata": {
    "tags": []
   },
   "source": [
    "### (3.4)\n",
    "**Directions:** Based on your eye count, what is the relative frequency of these words versus the rest?"
   ]
  },
  {
   "cell_type": "markdown",
   "metadata": {},
   "source": [
    "**Answer**: I do not see any words by eye count, so the relative frequencies are equal to (0)"
   ]
  },
  {
   "cell_type": "markdown",
   "metadata": {},
   "source": [
    "# Directory Listing\n",
    "**Directions:** A code block that executes the following bash command:\n",
    "``!ls -lRF -o``"
   ]
  },
  {
   "cell_type": "code",
   "execution_count": 54,
   "metadata": {},
   "outputs": [
    {
     "name": "stdout",
     "output_type": "stream",
     "text": [
      "total 256\n",
      "drwxr-xr-x  7 wyattscott     224 Apr  9 16:22 \u001b[34mMontecarlo_Simulator.egg-info\u001b[m\u001b[m/\n",
      "drwxr-xr-x  6 wyattscott     192 Apr  4 21:38 \u001b[34mbuild\u001b[m\u001b[m/\n",
      "drwxr-xr-x  7 wyattscott     224 Apr 13 13:30 \u001b[34mmontecarlo\u001b[m\u001b[m/\n",
      "-rw-r--r--@ 1 wyattscott  117378 Apr 13 13:35 montecarlo_demo.ipynb\n",
      "-rw-r--r--@ 1 wyattscott    3743 Apr 13 13:30 montecarlo_tests.py\n",
      "-rw-r--r--@ 1 wyattscott     337 Mar 19 13:40 setup.py\n",
      "-rw-r--r--  1 wyattscott     809 Mar 19 13:50 test_results.txt\n",
      "\n",
      "./Montecarlo_Simulator.egg-info:\n",
      "total 40\n",
      "-rw-r--r--  1 wyattscott  205 Apr  9 16:22 PKG-INFO\n",
      "-rw-r--r--  1 wyattscott  275 Apr  9 16:22 SOURCES.txt\n",
      "-rw-r--r--  1 wyattscott    1 Apr  9 16:22 dependency_links.txt\n",
      "-rw-r--r--  1 wyattscott   13 Apr  9 16:22 requires.txt\n",
      "-rw-r--r--  1 wyattscott   11 Apr  9 16:22 top_level.txt\n",
      "\n",
      "./build:\n",
      "total 8\n",
      "-rw-r--r--  1 wyattscott  1494 Apr  4 21:38 Untitled.ipynb\n",
      "drwxr-xr-x  2 wyattscott    64 Apr  9 16:22 \u001b[34mbdist.macosx-10.9-x86_64\u001b[m\u001b[m/\n",
      "drwxr-xr-x  3 wyattscott    96 Mar 19 22:08 \u001b[34mlib\u001b[m\u001b[m/\n",
      "\n",
      "./build/bdist.macosx-10.9-x86_64:\n",
      "total 0\n",
      "\n",
      "./build/lib:\n",
      "total 0\n",
      "drwxr-xr-x  4 wyattscott  128 Apr  2 19:27 \u001b[34mmontecarlo\u001b[m\u001b[m/\n",
      "\n",
      "./build/lib/montecarlo:\n",
      "total 24\n",
      "-rw-r--r--  1 wyattscott    43 Mar 19 13:45 __init__.py\n",
      "-rw-r--r--  1 wyattscott  6900 Apr  2 19:24 montecarlo.py\n",
      "\n",
      "./montecarlo:\n",
      "total 32\n",
      "-rw-r--r--@ 1 wyattscott    43 Mar 19 13:45 __init__.py\n",
      "drwxr-xr-x  4 wyattscott   128 Apr 13 12:14 \u001b[34m__pycache__\u001b[m\u001b[m/\n",
      "-rw-r--r--@ 1 wyattscott  9145 Apr 13 12:14 montecarlo.py\n",
      "\n",
      "./montecarlo/__pycache__:\n",
      "total 32\n",
      "-rw-r--r--  1 wyattscott   241 Mar 19 13:48 __init__.cpython-39.pyc\n",
      "-rw-r--r--  1 wyattscott  9738 Apr 13 12:14 montecarlo.cpython-39.pyc\n"
     ]
    }
   ],
   "source": [
    "!ls -lRF -o"
   ]
  },
  {
   "cell_type": "markdown",
   "metadata": {},
   "source": [
    "# Installation Output Listing    \n",
    "**Directions:** A code block that executes the code to install your your package and outputs a successful installation."
   ]
  },
  {
   "cell_type": "code",
   "execution_count": 55,
   "metadata": {},
   "outputs": [
    {
     "name": "stdout",
     "output_type": "stream",
     "text": [
      "Processing /Users/wyattscott/Documents/Data Science/DS5100/Project\n",
      "  Preparing metadata (setup.py) ... \u001b[?25ldone\n",
      "\u001b[?25hRequirement already satisfied: numpy in /Users/wyattscott/opt/anaconda3/lib/python3.9/site-packages (from Montecarlo-Simulator==1.0.0) (1.21.5)\n",
      "Requirement already satisfied: pandas in /Users/wyattscott/opt/anaconda3/lib/python3.9/site-packages (from Montecarlo-Simulator==1.0.0) (1.4.4)\n",
      "Requirement already satisfied: python-dateutil>=2.8.1 in /Users/wyattscott/opt/anaconda3/lib/python3.9/site-packages (from pandas->Montecarlo-Simulator==1.0.0) (2.8.2)\n",
      "Requirement already satisfied: pytz>=2020.1 in /Users/wyattscott/opt/anaconda3/lib/python3.9/site-packages (from pandas->Montecarlo-Simulator==1.0.0) (2022.1)\n",
      "Requirement already satisfied: six>=1.5 in /Users/wyattscott/opt/anaconda3/lib/python3.9/site-packages (from python-dateutil>=2.8.1->pandas->Montecarlo-Simulator==1.0.0) (1.16.0)\n",
      "Building wheels for collected packages: Montecarlo-Simulator\n",
      "  Building wheel for Montecarlo-Simulator (setup.py) ... \u001b[?25ldone\n",
      "\u001b[?25h  Created wheel for Montecarlo-Simulator: filename=Montecarlo_Simulator-1.0.0-py3-none-any.whl size=3945 sha256=8d0ab289cb222436f3a4e3e1cb8f74a96c88b7a785d34c50d385aa7e266f04be\n",
      "  Stored in directory: /private/var/folders/ty/8whcck9n7k14xzdn38j7322w0000gn/T/pip-ephem-wheel-cache-kgc7jjtl/wheels/d9/3a/fb/f177161071f287db36b9905c997b78dcac5e4e2116591b39e7\n",
      "Successfully built Montecarlo-Simulator\n",
      "Installing collected packages: Montecarlo-Simulator\n",
      "  Attempting uninstall: Montecarlo-Simulator\n",
      "    Found existing installation: Montecarlo-Simulator 1.0.0\n",
      "    Uninstalling Montecarlo-Simulator-1.0.0:\n",
      "      Successfully uninstalled Montecarlo-Simulator-1.0.0\n",
      "Successfully installed Montecarlo-Simulator-1.0.0\n"
     ]
    }
   ],
   "source": [
    "!pip install ."
   ]
  },
  {
   "cell_type": "code",
   "execution_count": null,
   "metadata": {},
   "outputs": [],
   "source": []
  }
 ],
 "metadata": {
  "kernelspec": {
   "display_name": "Python 3 (ipykernel)",
   "language": "python",
   "name": "python3"
  },
  "language_info": {
   "codemirror_mode": {
    "name": "ipython",
    "version": 3
   },
   "file_extension": ".py",
   "mimetype": "text/x-python",
   "name": "python",
   "nbconvert_exporter": "python",
   "pygments_lexer": "ipython3",
   "version": "3.9.13"
  }
 },
 "nbformat": 4,
 "nbformat_minor": 4
}
